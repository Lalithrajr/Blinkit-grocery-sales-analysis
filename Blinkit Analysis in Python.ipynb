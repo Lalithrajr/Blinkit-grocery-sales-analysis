{
 "cells": [
  {
   "cell_type": "markdown",
   "id": "2ecef1e3-3abb-436e-a688-9b4289c9fdcf",
   "metadata": {},
   "source": [
    "## Data Analysis using Python- Blinkit Analysis"
   ]
  },
  {
   "cell_type": "markdown",
   "id": "d774bf1b-3523-41ef-9c1c-100eeec77b60",
   "metadata": {},
   "source": [
    "### **Import Libraries**"
   ]
  },
  {
   "cell_type": "code",
   "execution_count": 1,
   "id": "6911f3db-6b61-48f9-a02d-93fc78ba7b1a",
   "metadata": {},
   "outputs": [],
   "source": [
    "import pandas as pd\n",
    "import numpy as np\n",
    "import matplotlib.pyplot as plt\n",
    "import seaborn as sns"
   ]
  },
  {
   "cell_type": "markdown",
   "id": "83665691-aa61-400f-946c-0371d23a6e5f",
   "metadata": {},
   "source": [
    "### **Import Raw Data**"
   ]
  },
  {
   "cell_type": "code",
   "execution_count": 2,
   "id": "9122f975-acb5-449a-810e-e6a10b74ef57",
   "metadata": {},
   "outputs": [],
   "source": [
    "df = pd.read_csv(r\"C:\\Users\\LALITHRAJ R\\Downloads\\BlinkIT Grocery Data.csv\")"
   ]
  },
  {
   "cell_type": "markdown",
   "id": "eda50fb3-bce8-4c57-9d1e-2318888ca1cc",
   "metadata": {},
   "source": [
    "### Sample Data"
   ]
  },
  {
   "cell_type": "code",
   "execution_count": 3,
   "id": "e153e590-47e0-429a-b803-edd32e713a46",
   "metadata": {},
   "outputs": [
    {
     "data": {
      "text/html": [
       "<div>\n",
       "<style scoped>\n",
       "    .dataframe tbody tr th:only-of-type {\n",
       "        vertical-align: middle;\n",
       "    }\n",
       "\n",
       "    .dataframe tbody tr th {\n",
       "        vertical-align: top;\n",
       "    }\n",
       "\n",
       "    .dataframe thead th {\n",
       "        text-align: right;\n",
       "    }\n",
       "</style>\n",
       "<table border=\"1\" class=\"dataframe\">\n",
       "  <thead>\n",
       "    <tr style=\"text-align: right;\">\n",
       "      <th></th>\n",
       "      <th>Item Fat Content</th>\n",
       "      <th>Item Identifier</th>\n",
       "      <th>Item Type</th>\n",
       "      <th>Outlet Establishment Year</th>\n",
       "      <th>Outlet Identifier</th>\n",
       "      <th>Outlet Location Type</th>\n",
       "      <th>Outlet Size</th>\n",
       "      <th>Outlet Type</th>\n",
       "      <th>Item Visibility</th>\n",
       "      <th>Item Weight</th>\n",
       "      <th>Sales</th>\n",
       "      <th>Rating</th>\n",
       "    </tr>\n",
       "  </thead>\n",
       "  <tbody>\n",
       "    <tr>\n",
       "      <th>0</th>\n",
       "      <td>Regular</td>\n",
       "      <td>FDX32</td>\n",
       "      <td>Fruits and Vegetables</td>\n",
       "      <td>2012</td>\n",
       "      <td>OUT049</td>\n",
       "      <td>Tier 1</td>\n",
       "      <td>Medium</td>\n",
       "      <td>Supermarket Type1</td>\n",
       "      <td>0.100014</td>\n",
       "      <td>15.10</td>\n",
       "      <td>145.4786</td>\n",
       "      <td>5.0</td>\n",
       "    </tr>\n",
       "    <tr>\n",
       "      <th>1</th>\n",
       "      <td>Low Fat</td>\n",
       "      <td>NCB42</td>\n",
       "      <td>Health and Hygiene</td>\n",
       "      <td>2022</td>\n",
       "      <td>OUT018</td>\n",
       "      <td>Tier 3</td>\n",
       "      <td>Medium</td>\n",
       "      <td>Supermarket Type2</td>\n",
       "      <td>0.008596</td>\n",
       "      <td>11.80</td>\n",
       "      <td>115.3492</td>\n",
       "      <td>5.0</td>\n",
       "    </tr>\n",
       "    <tr>\n",
       "      <th>2</th>\n",
       "      <td>Regular</td>\n",
       "      <td>FDR28</td>\n",
       "      <td>Frozen Foods</td>\n",
       "      <td>2016</td>\n",
       "      <td>OUT046</td>\n",
       "      <td>Tier 1</td>\n",
       "      <td>Small</td>\n",
       "      <td>Supermarket Type1</td>\n",
       "      <td>0.025896</td>\n",
       "      <td>13.85</td>\n",
       "      <td>165.0210</td>\n",
       "      <td>5.0</td>\n",
       "    </tr>\n",
       "    <tr>\n",
       "      <th>3</th>\n",
       "      <td>Regular</td>\n",
       "      <td>FDL50</td>\n",
       "      <td>Canned</td>\n",
       "      <td>2014</td>\n",
       "      <td>OUT013</td>\n",
       "      <td>Tier 3</td>\n",
       "      <td>High</td>\n",
       "      <td>Supermarket Type1</td>\n",
       "      <td>0.042278</td>\n",
       "      <td>12.15</td>\n",
       "      <td>126.5046</td>\n",
       "      <td>5.0</td>\n",
       "    </tr>\n",
       "    <tr>\n",
       "      <th>4</th>\n",
       "      <td>Low Fat</td>\n",
       "      <td>DRI25</td>\n",
       "      <td>Soft Drinks</td>\n",
       "      <td>2015</td>\n",
       "      <td>OUT045</td>\n",
       "      <td>Tier 2</td>\n",
       "      <td>Small</td>\n",
       "      <td>Supermarket Type1</td>\n",
       "      <td>0.033970</td>\n",
       "      <td>19.60</td>\n",
       "      <td>55.1614</td>\n",
       "      <td>5.0</td>\n",
       "    </tr>\n",
       "    <tr>\n",
       "      <th>5</th>\n",
       "      <td>low fat</td>\n",
       "      <td>FDS52</td>\n",
       "      <td>Frozen Foods</td>\n",
       "      <td>2020</td>\n",
       "      <td>OUT017</td>\n",
       "      <td>Tier 2</td>\n",
       "      <td>Small</td>\n",
       "      <td>Supermarket Type1</td>\n",
       "      <td>0.005505</td>\n",
       "      <td>8.89</td>\n",
       "      <td>102.4016</td>\n",
       "      <td>5.0</td>\n",
       "    </tr>\n",
       "    <tr>\n",
       "      <th>6</th>\n",
       "      <td>Low Fat</td>\n",
       "      <td>NCU05</td>\n",
       "      <td>Health and Hygiene</td>\n",
       "      <td>2011</td>\n",
       "      <td>OUT010</td>\n",
       "      <td>Tier 3</td>\n",
       "      <td>Small</td>\n",
       "      <td>Grocery Store</td>\n",
       "      <td>0.098312</td>\n",
       "      <td>11.80</td>\n",
       "      <td>81.4618</td>\n",
       "      <td>5.0</td>\n",
       "    </tr>\n",
       "    <tr>\n",
       "      <th>7</th>\n",
       "      <td>Low Fat</td>\n",
       "      <td>NCD30</td>\n",
       "      <td>Household</td>\n",
       "      <td>2015</td>\n",
       "      <td>OUT045</td>\n",
       "      <td>Tier 2</td>\n",
       "      <td>Small</td>\n",
       "      <td>Supermarket Type1</td>\n",
       "      <td>0.026904</td>\n",
       "      <td>19.70</td>\n",
       "      <td>96.0726</td>\n",
       "      <td>5.0</td>\n",
       "    </tr>\n",
       "    <tr>\n",
       "      <th>8</th>\n",
       "      <td>Low Fat</td>\n",
       "      <td>FDW20</td>\n",
       "      <td>Fruits and Vegetables</td>\n",
       "      <td>2014</td>\n",
       "      <td>OUT013</td>\n",
       "      <td>Tier 3</td>\n",
       "      <td>High</td>\n",
       "      <td>Supermarket Type1</td>\n",
       "      <td>0.024129</td>\n",
       "      <td>20.75</td>\n",
       "      <td>124.1730</td>\n",
       "      <td>5.0</td>\n",
       "    </tr>\n",
       "    <tr>\n",
       "      <th>9</th>\n",
       "      <td>Low Fat</td>\n",
       "      <td>FDX25</td>\n",
       "      <td>Canned</td>\n",
       "      <td>2018</td>\n",
       "      <td>OUT027</td>\n",
       "      <td>Tier 3</td>\n",
       "      <td>Medium</td>\n",
       "      <td>Supermarket Type3</td>\n",
       "      <td>0.101562</td>\n",
       "      <td>NaN</td>\n",
       "      <td>181.9292</td>\n",
       "      <td>5.0</td>\n",
       "    </tr>\n",
       "    <tr>\n",
       "      <th>10</th>\n",
       "      <td>LF</td>\n",
       "      <td>FDX21</td>\n",
       "      <td>Snack Foods</td>\n",
       "      <td>2018</td>\n",
       "      <td>OUT027</td>\n",
       "      <td>Tier 3</td>\n",
       "      <td>Medium</td>\n",
       "      <td>Supermarket Type3</td>\n",
       "      <td>0.084555</td>\n",
       "      <td>NaN</td>\n",
       "      <td>109.8912</td>\n",
       "      <td>5.0</td>\n",
       "    </tr>\n",
       "    <tr>\n",
       "      <th>11</th>\n",
       "      <td>Low Fat</td>\n",
       "      <td>NCU41</td>\n",
       "      <td>Health and Hygiene</td>\n",
       "      <td>2017</td>\n",
       "      <td>OUT035</td>\n",
       "      <td>Tier 2</td>\n",
       "      <td>Small</td>\n",
       "      <td>Supermarket Type1</td>\n",
       "      <td>0.052045</td>\n",
       "      <td>18.85</td>\n",
       "      <td>192.1846</td>\n",
       "      <td>5.0</td>\n",
       "    </tr>\n",
       "    <tr>\n",
       "      <th>12</th>\n",
       "      <td>Low Fat</td>\n",
       "      <td>FDL20</td>\n",
       "      <td>Fruits and Vegetables</td>\n",
       "      <td>2022</td>\n",
       "      <td>OUT018</td>\n",
       "      <td>Tier 3</td>\n",
       "      <td>Medium</td>\n",
       "      <td>Supermarket Type2</td>\n",
       "      <td>0.128938</td>\n",
       "      <td>17.10</td>\n",
       "      <td>112.3886</td>\n",
       "      <td>5.0</td>\n",
       "    </tr>\n",
       "    <tr>\n",
       "      <th>13</th>\n",
       "      <td>Low Fat</td>\n",
       "      <td>NCR54</td>\n",
       "      <td>Household</td>\n",
       "      <td>2014</td>\n",
       "      <td>OUT013</td>\n",
       "      <td>Tier 3</td>\n",
       "      <td>High</td>\n",
       "      <td>Supermarket Type1</td>\n",
       "      <td>0.090487</td>\n",
       "      <td>16.35</td>\n",
       "      <td>195.2110</td>\n",
       "      <td>5.0</td>\n",
       "    </tr>\n",
       "    <tr>\n",
       "      <th>14</th>\n",
       "      <td>Low Fat</td>\n",
       "      <td>FDH19</td>\n",
       "      <td>Meat</td>\n",
       "      <td>2018</td>\n",
       "      <td>OUT027</td>\n",
       "      <td>Tier 3</td>\n",
       "      <td>Medium</td>\n",
       "      <td>Supermarket Type3</td>\n",
       "      <td>0.032928</td>\n",
       "      <td>NaN</td>\n",
       "      <td>173.1738</td>\n",
       "      <td>5.0</td>\n",
       "    </tr>\n",
       "    <tr>\n",
       "      <th>15</th>\n",
       "      <td>Regular</td>\n",
       "      <td>FDB57</td>\n",
       "      <td>Fruits and Vegetables</td>\n",
       "      <td>2017</td>\n",
       "      <td>OUT035</td>\n",
       "      <td>Tier 2</td>\n",
       "      <td>Small</td>\n",
       "      <td>Supermarket Type1</td>\n",
       "      <td>0.018802</td>\n",
       "      <td>20.25</td>\n",
       "      <td>222.1772</td>\n",
       "      <td>5.0</td>\n",
       "    </tr>\n",
       "    <tr>\n",
       "      <th>16</th>\n",
       "      <td>Low Fat</td>\n",
       "      <td>FDO23</td>\n",
       "      <td>Breads</td>\n",
       "      <td>2022</td>\n",
       "      <td>OUT018</td>\n",
       "      <td>Tier 3</td>\n",
       "      <td>Medium</td>\n",
       "      <td>Supermarket Type2</td>\n",
       "      <td>0.147024</td>\n",
       "      <td>17.85</td>\n",
       "      <td>93.7436</td>\n",
       "      <td>5.0</td>\n",
       "    </tr>\n",
       "    <tr>\n",
       "      <th>17</th>\n",
       "      <td>Low Fat</td>\n",
       "      <td>NCB07</td>\n",
       "      <td>Household</td>\n",
       "      <td>2012</td>\n",
       "      <td>OUT049</td>\n",
       "      <td>Tier 1</td>\n",
       "      <td>Medium</td>\n",
       "      <td>Supermarket Type1</td>\n",
       "      <td>0.077628</td>\n",
       "      <td>19.20</td>\n",
       "      <td>197.6110</td>\n",
       "      <td>5.0</td>\n",
       "    </tr>\n",
       "    <tr>\n",
       "      <th>18</th>\n",
       "      <td>Low Fat</td>\n",
       "      <td>FDJ56</td>\n",
       "      <td>Fruits and Vegetables</td>\n",
       "      <td>2018</td>\n",
       "      <td>OUT027</td>\n",
       "      <td>Tier 3</td>\n",
       "      <td>Medium</td>\n",
       "      <td>Supermarket Type3</td>\n",
       "      <td>0.182515</td>\n",
       "      <td>NaN</td>\n",
       "      <td>98.7700</td>\n",
       "      <td>5.0</td>\n",
       "    </tr>\n",
       "    <tr>\n",
       "      <th>19</th>\n",
       "      <td>Low Fat</td>\n",
       "      <td>DRN47</td>\n",
       "      <td>Hard Drinks</td>\n",
       "      <td>2022</td>\n",
       "      <td>OUT018</td>\n",
       "      <td>Tier 3</td>\n",
       "      <td>Medium</td>\n",
       "      <td>Supermarket Type2</td>\n",
       "      <td>0.016895</td>\n",
       "      <td>12.10</td>\n",
       "      <td>178.5660</td>\n",
       "      <td>5.0</td>\n",
       "    </tr>\n",
       "  </tbody>\n",
       "</table>\n",
       "</div>"
      ],
      "text/plain": [
       "   Item Fat Content Item Identifier              Item Type  \\\n",
       "0           Regular           FDX32  Fruits and Vegetables   \n",
       "1           Low Fat           NCB42     Health and Hygiene   \n",
       "2           Regular           FDR28           Frozen Foods   \n",
       "3           Regular           FDL50                 Canned   \n",
       "4           Low Fat           DRI25            Soft Drinks   \n",
       "5           low fat           FDS52           Frozen Foods   \n",
       "6           Low Fat           NCU05     Health and Hygiene   \n",
       "7           Low Fat           NCD30              Household   \n",
       "8           Low Fat           FDW20  Fruits and Vegetables   \n",
       "9           Low Fat           FDX25                 Canned   \n",
       "10               LF           FDX21            Snack Foods   \n",
       "11          Low Fat           NCU41     Health and Hygiene   \n",
       "12          Low Fat           FDL20  Fruits and Vegetables   \n",
       "13          Low Fat           NCR54              Household   \n",
       "14          Low Fat           FDH19                   Meat   \n",
       "15          Regular           FDB57  Fruits and Vegetables   \n",
       "16          Low Fat           FDO23                 Breads   \n",
       "17          Low Fat           NCB07              Household   \n",
       "18          Low Fat           FDJ56  Fruits and Vegetables   \n",
       "19          Low Fat           DRN47            Hard Drinks   \n",
       "\n",
       "    Outlet Establishment Year Outlet Identifier Outlet Location Type  \\\n",
       "0                        2012            OUT049               Tier 1   \n",
       "1                        2022            OUT018               Tier 3   \n",
       "2                        2016            OUT046               Tier 1   \n",
       "3                        2014            OUT013               Tier 3   \n",
       "4                        2015            OUT045               Tier 2   \n",
       "5                        2020            OUT017               Tier 2   \n",
       "6                        2011            OUT010               Tier 3   \n",
       "7                        2015            OUT045               Tier 2   \n",
       "8                        2014            OUT013               Tier 3   \n",
       "9                        2018            OUT027               Tier 3   \n",
       "10                       2018            OUT027               Tier 3   \n",
       "11                       2017            OUT035               Tier 2   \n",
       "12                       2022            OUT018               Tier 3   \n",
       "13                       2014            OUT013               Tier 3   \n",
       "14                       2018            OUT027               Tier 3   \n",
       "15                       2017            OUT035               Tier 2   \n",
       "16                       2022            OUT018               Tier 3   \n",
       "17                       2012            OUT049               Tier 1   \n",
       "18                       2018            OUT027               Tier 3   \n",
       "19                       2022            OUT018               Tier 3   \n",
       "\n",
       "   Outlet Size        Outlet Type  Item Visibility  Item Weight     Sales  \\\n",
       "0       Medium  Supermarket Type1         0.100014        15.10  145.4786   \n",
       "1       Medium  Supermarket Type2         0.008596        11.80  115.3492   \n",
       "2        Small  Supermarket Type1         0.025896        13.85  165.0210   \n",
       "3         High  Supermarket Type1         0.042278        12.15  126.5046   \n",
       "4        Small  Supermarket Type1         0.033970        19.60   55.1614   \n",
       "5        Small  Supermarket Type1         0.005505         8.89  102.4016   \n",
       "6        Small      Grocery Store         0.098312        11.80   81.4618   \n",
       "7        Small  Supermarket Type1         0.026904        19.70   96.0726   \n",
       "8         High  Supermarket Type1         0.024129        20.75  124.1730   \n",
       "9       Medium  Supermarket Type3         0.101562          NaN  181.9292   \n",
       "10      Medium  Supermarket Type3         0.084555          NaN  109.8912   \n",
       "11       Small  Supermarket Type1         0.052045        18.85  192.1846   \n",
       "12      Medium  Supermarket Type2         0.128938        17.10  112.3886   \n",
       "13        High  Supermarket Type1         0.090487        16.35  195.2110   \n",
       "14      Medium  Supermarket Type3         0.032928          NaN  173.1738   \n",
       "15       Small  Supermarket Type1         0.018802        20.25  222.1772   \n",
       "16      Medium  Supermarket Type2         0.147024        17.85   93.7436   \n",
       "17      Medium  Supermarket Type1         0.077628        19.20  197.6110   \n",
       "18      Medium  Supermarket Type3         0.182515          NaN   98.7700   \n",
       "19      Medium  Supermarket Type2         0.016895        12.10  178.5660   \n",
       "\n",
       "    Rating  \n",
       "0      5.0  \n",
       "1      5.0  \n",
       "2      5.0  \n",
       "3      5.0  \n",
       "4      5.0  \n",
       "5      5.0  \n",
       "6      5.0  \n",
       "7      5.0  \n",
       "8      5.0  \n",
       "9      5.0  \n",
       "10     5.0  \n",
       "11     5.0  \n",
       "12     5.0  \n",
       "13     5.0  \n",
       "14     5.0  \n",
       "15     5.0  \n",
       "16     5.0  \n",
       "17     5.0  \n",
       "18     5.0  \n",
       "19     5.0  "
      ]
     },
     "execution_count": 3,
     "metadata": {},
     "output_type": "execute_result"
    }
   ],
   "source": [
    "df.head(20)"
   ]
  },
  {
   "cell_type": "code",
   "execution_count": 4,
   "id": "2f57c916-642f-42a1-9462-126c32e615f6",
   "metadata": {
    "scrolled": true
   },
   "outputs": [
    {
     "data": {
      "text/html": [
       "<div>\n",
       "<style scoped>\n",
       "    .dataframe tbody tr th:only-of-type {\n",
       "        vertical-align: middle;\n",
       "    }\n",
       "\n",
       "    .dataframe tbody tr th {\n",
       "        vertical-align: top;\n",
       "    }\n",
       "\n",
       "    .dataframe thead th {\n",
       "        text-align: right;\n",
       "    }\n",
       "</style>\n",
       "<table border=\"1\" class=\"dataframe\">\n",
       "  <thead>\n",
       "    <tr style=\"text-align: right;\">\n",
       "      <th></th>\n",
       "      <th>Item Fat Content</th>\n",
       "      <th>Item Identifier</th>\n",
       "      <th>Item Type</th>\n",
       "      <th>Outlet Establishment Year</th>\n",
       "      <th>Outlet Identifier</th>\n",
       "      <th>Outlet Location Type</th>\n",
       "      <th>Outlet Size</th>\n",
       "      <th>Outlet Type</th>\n",
       "      <th>Item Visibility</th>\n",
       "      <th>Item Weight</th>\n",
       "      <th>Sales</th>\n",
       "      <th>Rating</th>\n",
       "    </tr>\n",
       "  </thead>\n",
       "  <tbody>\n",
       "    <tr>\n",
       "      <th>8508</th>\n",
       "      <td>Regular</td>\n",
       "      <td>FDU57</td>\n",
       "      <td>Snack Foods</td>\n",
       "      <td>2018</td>\n",
       "      <td>OUT027</td>\n",
       "      <td>Tier 3</td>\n",
       "      <td>Medium</td>\n",
       "      <td>Supermarket Type3</td>\n",
       "      <td>0.089121</td>\n",
       "      <td>NaN</td>\n",
       "      <td>149.8708</td>\n",
       "      <td>4.0</td>\n",
       "    </tr>\n",
       "    <tr>\n",
       "      <th>8509</th>\n",
       "      <td>Regular</td>\n",
       "      <td>FDU58</td>\n",
       "      <td>Snack Foods</td>\n",
       "      <td>2018</td>\n",
       "      <td>OUT027</td>\n",
       "      <td>Tier 3</td>\n",
       "      <td>Medium</td>\n",
       "      <td>Supermarket Type3</td>\n",
       "      <td>0.028871</td>\n",
       "      <td>NaN</td>\n",
       "      <td>188.7898</td>\n",
       "      <td>4.0</td>\n",
       "    </tr>\n",
       "    <tr>\n",
       "      <th>8510</th>\n",
       "      <td>Regular</td>\n",
       "      <td>FDX46</td>\n",
       "      <td>Snack Foods</td>\n",
       "      <td>2018</td>\n",
       "      <td>OUT027</td>\n",
       "      <td>Tier 3</td>\n",
       "      <td>Medium</td>\n",
       "      <td>Supermarket Type3</td>\n",
       "      <td>0.057835</td>\n",
       "      <td>NaN</td>\n",
       "      <td>57.5562</td>\n",
       "      <td>4.0</td>\n",
       "    </tr>\n",
       "    <tr>\n",
       "      <th>8511</th>\n",
       "      <td>Regular</td>\n",
       "      <td>FDX57</td>\n",
       "      <td>Snack Foods</td>\n",
       "      <td>2018</td>\n",
       "      <td>OUT027</td>\n",
       "      <td>Tier 3</td>\n",
       "      <td>Medium</td>\n",
       "      <td>Supermarket Type3</td>\n",
       "      <td>0.047037</td>\n",
       "      <td>NaN</td>\n",
       "      <td>96.4068</td>\n",
       "      <td>4.0</td>\n",
       "    </tr>\n",
       "    <tr>\n",
       "      <th>8512</th>\n",
       "      <td>Regular</td>\n",
       "      <td>FDY33</td>\n",
       "      <td>Snack Foods</td>\n",
       "      <td>2018</td>\n",
       "      <td>OUT027</td>\n",
       "      <td>Tier 3</td>\n",
       "      <td>Medium</td>\n",
       "      <td>Supermarket Type3</td>\n",
       "      <td>0.096730</td>\n",
       "      <td>NaN</td>\n",
       "      <td>159.0262</td>\n",
       "      <td>4.0</td>\n",
       "    </tr>\n",
       "    <tr>\n",
       "      <th>8513</th>\n",
       "      <td>Regular</td>\n",
       "      <td>DRY23</td>\n",
       "      <td>Soft Drinks</td>\n",
       "      <td>2018</td>\n",
       "      <td>OUT027</td>\n",
       "      <td>Tier 3</td>\n",
       "      <td>Medium</td>\n",
       "      <td>Supermarket Type3</td>\n",
       "      <td>0.108568</td>\n",
       "      <td>NaN</td>\n",
       "      <td>42.9112</td>\n",
       "      <td>4.0</td>\n",
       "    </tr>\n",
       "    <tr>\n",
       "      <th>8514</th>\n",
       "      <td>low fat</td>\n",
       "      <td>FDA11</td>\n",
       "      <td>Baking Goods</td>\n",
       "      <td>2018</td>\n",
       "      <td>OUT027</td>\n",
       "      <td>Tier 3</td>\n",
       "      <td>Medium</td>\n",
       "      <td>Supermarket Type3</td>\n",
       "      <td>0.043029</td>\n",
       "      <td>NaN</td>\n",
       "      <td>94.7436</td>\n",
       "      <td>4.0</td>\n",
       "    </tr>\n",
       "    <tr>\n",
       "      <th>8515</th>\n",
       "      <td>low fat</td>\n",
       "      <td>FDK38</td>\n",
       "      <td>Canned</td>\n",
       "      <td>2018</td>\n",
       "      <td>OUT027</td>\n",
       "      <td>Tier 3</td>\n",
       "      <td>Medium</td>\n",
       "      <td>Supermarket Type3</td>\n",
       "      <td>0.053032</td>\n",
       "      <td>NaN</td>\n",
       "      <td>149.1734</td>\n",
       "      <td>4.0</td>\n",
       "    </tr>\n",
       "    <tr>\n",
       "      <th>8516</th>\n",
       "      <td>low fat</td>\n",
       "      <td>FDO38</td>\n",
       "      <td>Canned</td>\n",
       "      <td>2018</td>\n",
       "      <td>OUT027</td>\n",
       "      <td>Tier 3</td>\n",
       "      <td>Medium</td>\n",
       "      <td>Supermarket Type3</td>\n",
       "      <td>0.072486</td>\n",
       "      <td>NaN</td>\n",
       "      <td>78.9986</td>\n",
       "      <td>4.0</td>\n",
       "    </tr>\n",
       "    <tr>\n",
       "      <th>8517</th>\n",
       "      <td>low fat</td>\n",
       "      <td>FDG32</td>\n",
       "      <td>Fruits and Vegetables</td>\n",
       "      <td>2018</td>\n",
       "      <td>OUT027</td>\n",
       "      <td>Tier 3</td>\n",
       "      <td>Medium</td>\n",
       "      <td>Supermarket Type3</td>\n",
       "      <td>0.175143</td>\n",
       "      <td>NaN</td>\n",
       "      <td>222.3772</td>\n",
       "      <td>4.0</td>\n",
       "    </tr>\n",
       "    <tr>\n",
       "      <th>8518</th>\n",
       "      <td>low fat</td>\n",
       "      <td>NCT53</td>\n",
       "      <td>Health and Hygiene</td>\n",
       "      <td>2018</td>\n",
       "      <td>OUT027</td>\n",
       "      <td>Tier 3</td>\n",
       "      <td>Medium</td>\n",
       "      <td>Supermarket Type3</td>\n",
       "      <td>0.000000</td>\n",
       "      <td>NaN</td>\n",
       "      <td>164.5526</td>\n",
       "      <td>4.0</td>\n",
       "    </tr>\n",
       "    <tr>\n",
       "      <th>8519</th>\n",
       "      <td>low fat</td>\n",
       "      <td>FDN09</td>\n",
       "      <td>Snack Foods</td>\n",
       "      <td>2018</td>\n",
       "      <td>OUT027</td>\n",
       "      <td>Tier 3</td>\n",
       "      <td>Medium</td>\n",
       "      <td>Supermarket Type3</td>\n",
       "      <td>0.034706</td>\n",
       "      <td>NaN</td>\n",
       "      <td>241.6828</td>\n",
       "      <td>4.0</td>\n",
       "    </tr>\n",
       "    <tr>\n",
       "      <th>8520</th>\n",
       "      <td>low fat</td>\n",
       "      <td>DRE13</td>\n",
       "      <td>Soft Drinks</td>\n",
       "      <td>2018</td>\n",
       "      <td>OUT027</td>\n",
       "      <td>Tier 3</td>\n",
       "      <td>Medium</td>\n",
       "      <td>Supermarket Type3</td>\n",
       "      <td>0.027571</td>\n",
       "      <td>NaN</td>\n",
       "      <td>86.6198</td>\n",
       "      <td>4.0</td>\n",
       "    </tr>\n",
       "    <tr>\n",
       "      <th>8521</th>\n",
       "      <td>reg</td>\n",
       "      <td>FDT50</td>\n",
       "      <td>Dairy</td>\n",
       "      <td>2018</td>\n",
       "      <td>OUT027</td>\n",
       "      <td>Tier 3</td>\n",
       "      <td>Medium</td>\n",
       "      <td>Supermarket Type3</td>\n",
       "      <td>0.107715</td>\n",
       "      <td>NaN</td>\n",
       "      <td>97.8752</td>\n",
       "      <td>4.0</td>\n",
       "    </tr>\n",
       "    <tr>\n",
       "      <th>8522</th>\n",
       "      <td>reg</td>\n",
       "      <td>FDM58</td>\n",
       "      <td>Snack Foods</td>\n",
       "      <td>2018</td>\n",
       "      <td>OUT027</td>\n",
       "      <td>Tier 3</td>\n",
       "      <td>Medium</td>\n",
       "      <td>Supermarket Type3</td>\n",
       "      <td>0.000000</td>\n",
       "      <td>NaN</td>\n",
       "      <td>112.2544</td>\n",
       "      <td>4.0</td>\n",
       "    </tr>\n",
       "  </tbody>\n",
       "</table>\n",
       "</div>"
      ],
      "text/plain": [
       "     Item Fat Content Item Identifier              Item Type  \\\n",
       "8508          Regular           FDU57            Snack Foods   \n",
       "8509          Regular           FDU58            Snack Foods   \n",
       "8510          Regular           FDX46            Snack Foods   \n",
       "8511          Regular           FDX57            Snack Foods   \n",
       "8512          Regular           FDY33            Snack Foods   \n",
       "8513          Regular           DRY23            Soft Drinks   \n",
       "8514          low fat           FDA11           Baking Goods   \n",
       "8515          low fat           FDK38                 Canned   \n",
       "8516          low fat           FDO38                 Canned   \n",
       "8517          low fat           FDG32  Fruits and Vegetables   \n",
       "8518          low fat           NCT53     Health and Hygiene   \n",
       "8519          low fat           FDN09            Snack Foods   \n",
       "8520          low fat           DRE13            Soft Drinks   \n",
       "8521              reg           FDT50                  Dairy   \n",
       "8522              reg           FDM58            Snack Foods   \n",
       "\n",
       "      Outlet Establishment Year Outlet Identifier Outlet Location Type  \\\n",
       "8508                       2018            OUT027               Tier 3   \n",
       "8509                       2018            OUT027               Tier 3   \n",
       "8510                       2018            OUT027               Tier 3   \n",
       "8511                       2018            OUT027               Tier 3   \n",
       "8512                       2018            OUT027               Tier 3   \n",
       "8513                       2018            OUT027               Tier 3   \n",
       "8514                       2018            OUT027               Tier 3   \n",
       "8515                       2018            OUT027               Tier 3   \n",
       "8516                       2018            OUT027               Tier 3   \n",
       "8517                       2018            OUT027               Tier 3   \n",
       "8518                       2018            OUT027               Tier 3   \n",
       "8519                       2018            OUT027               Tier 3   \n",
       "8520                       2018            OUT027               Tier 3   \n",
       "8521                       2018            OUT027               Tier 3   \n",
       "8522                       2018            OUT027               Tier 3   \n",
       "\n",
       "     Outlet Size        Outlet Type  Item Visibility  Item Weight     Sales  \\\n",
       "8508      Medium  Supermarket Type3         0.089121          NaN  149.8708   \n",
       "8509      Medium  Supermarket Type3         0.028871          NaN  188.7898   \n",
       "8510      Medium  Supermarket Type3         0.057835          NaN   57.5562   \n",
       "8511      Medium  Supermarket Type3         0.047037          NaN   96.4068   \n",
       "8512      Medium  Supermarket Type3         0.096730          NaN  159.0262   \n",
       "8513      Medium  Supermarket Type3         0.108568          NaN   42.9112   \n",
       "8514      Medium  Supermarket Type3         0.043029          NaN   94.7436   \n",
       "8515      Medium  Supermarket Type3         0.053032          NaN  149.1734   \n",
       "8516      Medium  Supermarket Type3         0.072486          NaN   78.9986   \n",
       "8517      Medium  Supermarket Type3         0.175143          NaN  222.3772   \n",
       "8518      Medium  Supermarket Type3         0.000000          NaN  164.5526   \n",
       "8519      Medium  Supermarket Type3         0.034706          NaN  241.6828   \n",
       "8520      Medium  Supermarket Type3         0.027571          NaN   86.6198   \n",
       "8521      Medium  Supermarket Type3         0.107715          NaN   97.8752   \n",
       "8522      Medium  Supermarket Type3         0.000000          NaN  112.2544   \n",
       "\n",
       "      Rating  \n",
       "8508     4.0  \n",
       "8509     4.0  \n",
       "8510     4.0  \n",
       "8511     4.0  \n",
       "8512     4.0  \n",
       "8513     4.0  \n",
       "8514     4.0  \n",
       "8515     4.0  \n",
       "8516     4.0  \n",
       "8517     4.0  \n",
       "8518     4.0  \n",
       "8519     4.0  \n",
       "8520     4.0  \n",
       "8521     4.0  \n",
       "8522     4.0  "
      ]
     },
     "execution_count": 4,
     "metadata": {},
     "output_type": "execute_result"
    }
   ],
   "source": [
    "df.tail(15)"
   ]
  },
  {
   "cell_type": "markdown",
   "id": "96a6e313-c293-43fd-a5f2-42c4338fef2b",
   "metadata": {},
   "source": [
    "### Size of Data use numpy shape"
   ]
  },
  {
   "cell_type": "code",
   "execution_count": 5,
   "id": "28db720f-6a83-43b6-a6f8-2a881d2423e5",
   "metadata": {},
   "outputs": [
    {
     "data": {
      "text/plain": [
       "(8523, 12)"
      ]
     },
     "execution_count": 5,
     "metadata": {},
     "output_type": "execute_result"
    }
   ],
   "source": [
    "df.shape"
   ]
  },
  {
   "cell_type": "code",
   "execution_count": 6,
   "id": "4ed6a900-035e-4a66-9388-0f0b03cdc4ac",
   "metadata": {},
   "outputs": [
    {
     "name": "stdout",
     "output_type": "stream",
     "text": [
      "Size of data: (8523, 12)\n"
     ]
    }
   ],
   "source": [
    "print(\"Size of data:\",df.shape)"
   ]
  },
  {
   "cell_type": "markdown",
   "id": "cae517e0-fb3c-4890-8273-c3a9dd3cada3",
   "metadata": {},
   "source": [
    "### Field info"
   ]
  },
  {
   "cell_type": "code",
   "execution_count": 7,
   "id": "c3e6d0fc-a5da-477a-8d0d-e4418d0f73a5",
   "metadata": {},
   "outputs": [
    {
     "data": {
      "text/plain": [
       "Index(['Item Fat Content', 'Item Identifier', 'Item Type',\n",
       "       'Outlet Establishment Year', 'Outlet Identifier',\n",
       "       'Outlet Location Type', 'Outlet Size', 'Outlet Type', 'Item Visibility',\n",
       "       'Item Weight', 'Sales', 'Rating'],\n",
       "      dtype='object')"
      ]
     },
     "execution_count": 7,
     "metadata": {},
     "output_type": "execute_result"
    }
   ],
   "source": [
    "df.columns"
   ]
  },
  {
   "cell_type": "markdown",
   "id": "117cd670-1390-4b56-b5ec-6e2cda545ef8",
   "metadata": {},
   "source": [
    "### Data Types "
   ]
  },
  {
   "cell_type": "code",
   "execution_count": 8,
   "id": "b5c4b121-56b5-468f-a98c-c89c9ce38427",
   "metadata": {},
   "outputs": [
    {
     "data": {
      "text/plain": [
       "Item Fat Content              object\n",
       "Item Identifier               object\n",
       "Item Type                     object\n",
       "Outlet Establishment Year      int64\n",
       "Outlet Identifier             object\n",
       "Outlet Location Type          object\n",
       "Outlet Size                   object\n",
       "Outlet Type                   object\n",
       "Item Visibility              float64\n",
       "Item Weight                  float64\n",
       "Sales                        float64\n",
       "Rating                       float64\n",
       "dtype: object"
      ]
     },
     "execution_count": 8,
     "metadata": {},
     "output_type": "execute_result"
    }
   ],
   "source": [
    "df.dtypes"
   ]
  },
  {
   "cell_type": "markdown",
   "id": "9913bf19-e097-4b1b-a883-05db030b6bea",
   "metadata": {},
   "source": [
    "### Printing unique values in the column Item Fat Content for data cleaning"
   ]
  },
  {
   "cell_type": "code",
   "execution_count": 9,
   "id": "9855eec8-7c18-4528-8caa-2a0010fa5ce2",
   "metadata": {},
   "outputs": [
    {
     "name": "stdout",
     "output_type": "stream",
     "text": [
      "['Regular' 'Low Fat' 'low fat' 'LF' 'reg']\n"
     ]
    }
   ],
   "source": [
    "print(df['Item Fat Content'].unique())"
   ]
  },
  {
   "cell_type": "markdown",
   "id": "04629407-e76d-4380-95a4-0d8369baed9b",
   "metadata": {},
   "source": [
    "### Data Cleaning"
   ]
  },
  {
   "cell_type": "code",
   "execution_count": 10,
   "id": "f6904646-781b-4677-b5e6-ec191219be08",
   "metadata": {},
   "outputs": [],
   "source": [
    "df['Item Fat Content']=df['Item Fat Content'].replace({'LF':'Low Fat',\n",
    "                                                      'low fat': 'Low Fat',\n",
    "                                                      'reg':'Regular'})"
   ]
  },
  {
   "cell_type": "code",
   "execution_count": 11,
   "id": "810fc1c7-665b-4f4f-a968-f753b1379537",
   "metadata": {},
   "outputs": [
    {
     "name": "stdout",
     "output_type": "stream",
     "text": [
      "['Regular' 'Low Fat']\n"
     ]
    }
   ],
   "source": [
    "print(df['Item Fat Content'].unique())"
   ]
  },
  {
   "cell_type": "markdown",
   "id": "48a58a6e-b090-4949-adc1-befabce7988e",
   "metadata": {},
   "source": [
    "### Business Requirements"
   ]
  },
  {
   "cell_type": "markdown",
   "id": "0957c556-884a-4662-82ed-c362bbce6459",
   "metadata": {},
   "source": [
    "### KPI Requirements"
   ]
  },
  {
   "cell_type": "code",
   "execution_count": 12,
   "id": "2f76c88d-c0ef-4379-88f9-0e146194141b",
   "metadata": {},
   "outputs": [
    {
     "name": "stdout",
     "output_type": "stream",
     "text": [
      "Total Sales: $1,201,681\n",
      "Average Sales: $141.0\n",
      "No of Items sold: 8,523\n",
      "Average Rating: 4\n"
     ]
    }
   ],
   "source": [
    "#Total sales\n",
    "total_sales=df['Sales'].sum()\n",
    "\n",
    "##Avg Sales mean means avg func \n",
    "avg_sales=df['Sales'].mean()\n",
    "\n",
    "##No of items sold\n",
    "no_of_items_sold = df['Sales'].count()\n",
    "\n",
    "#Avg rating\n",
    "avg_rating = df['Rating'].mean()\n",
    "\n",
    "#Display\n",
    "print(f\"Total Sales: ${total_sales:,.0f}\")\n",
    "print(f\"Average Sales: ${avg_sales:,.1f}\")\n",
    "print(f\"No of Items sold: {no_of_items_sold:,.0f}\")\n",
    "print(f\"Average Rating: {avg_rating:,.0f}\")"
   ]
  },
  {
   "cell_type": "markdown",
   "id": "4e6f0e1f-6663-46d3-917e-d036583c72cd",
   "metadata": {},
   "source": [
    "### Charts Requirement"
   ]
  },
  {
   "cell_type": "markdown",
   "id": "99ffaf09-0b4e-4849-b192-2fc53b78132a",
   "metadata": {},
   "source": [
    "### Total sales by fat content"
   ]
  },
  {
   "cell_type": "code",
   "execution_count": 14,
   "id": "41382177-06e7-4ee0-8b27-b82cff7796f6",
   "metadata": {},
   "outputs": [
    {
     "data": {
      "image/png": "[encoded data removed]",
      "text/plain": [
       "<Figure size 640x480 with 1 Axes>"
      ]
     },
     "metadata": {},
     "output_type": "display_data"
    }
   ],
   "source": [
    "sales_by_fat = df.groupby('Item Fat Content')['Sales'].sum()\n",
    "\n",
    "plt.pie(sales_by_fat, labels = sales_by_fat.index,\n",
    "                    autopct = '%.0f%%', \n",
    "                    startangle = 90)\n",
    "\n",
    "plt.title('Sales by Fat Content')\n",
    "plt.axis('equal')\n",
    "plt.show()"
   ]
  },
  {
   "cell_type": "markdown",
   "id": "891b0d03-4617-412d-981b-88c6e802dab2",
   "metadata": {},
   "source": [
    "# "
   ]
  },
  {
   "cell_type": "markdown",
   "id": "3a761516-39ee-4b66-a15e-ead9faacd781",
   "metadata": {},
   "source": [
    "### Total sales by item\n"
   ]
  },
  {
   "cell_type": "code",
   "execution_count": 28,
   "id": "be266a2c-1521-4b07-98b2-492b6f22a0ad",
   "metadata": {},
   "outputs": [
    {
     "data": {
      "image/png": "[encoded data removed]",
      "text/plain": [
       "<Figure size 1000x600 with 1 Axes>"
      ]
     },
     "metadata": {},
     "output_type": "display_data"
    }
   ],
   "source": [
    "sales_by_type = df.groupby('Item Type')['Sales'].sum().sort_values(ascending = False)\n",
    "plt.figure(figsize=(10,6))\n",
    "bars=plt.bar(sales_by_type.index,sales_by_type.values)\n",
    "plt.xticks(rotation=-90)\n",
    "plt.xlabel(\"Item Type\")\n",
    "plt.ylabel(\"Total Sales\")\n",
    "plt.title(\"Total Sales by Item Type\")\n",
    "for bar in bars:\n",
    "    plt.text(bar.get_x() + bar.get_width() / 2, bar.get_height(),\n",
    "             f\"{bar.get_height():,.0f}\",ha='center',va='bottom',fontsize=7\n",
    "            )\n",
    "plt.tight_layout()\n",
    "plt.show()"
   ]
  },
  {
   "cell_type": "markdown",
   "id": "44034301-10a5-44a2-990e-d2934f7aa0d9",
   "metadata": {},
   "source": [
    "#### Fat Content by outlet for total sales"
   ]
  },
  {
   "cell_type": "code",
   "execution_count": 32,
   "id": "87bf0b4e-6495-4bc1-88c4-f4430be99d12",
   "metadata": {},
   "outputs": [
    {
     "data": {
      "image/png": "[encoded data removed]",
      "text/plain": [
       "<Figure size 800x500 with 1 Axes>"
      ]
     },
     "metadata": {},
     "output_type": "display_data"
    }
   ],
   "source": [
    "grouped=df.groupby(['Outlet Location Type','Item Fat Content'])['Sales'].sum().unstack()\n",
    "grouped = grouped[['Regular','Low Fat']]\n",
    "ax=grouped.plot(kind='bar',figsize=(8,5),title=\"Outlet tier by Fat Content\")\n",
    "plt.xlabel('Outlet location Tier')\n",
    "plt.ylabel('Total sales')\n",
    "plt.legend(title='Item Fat Content')\n",
    "plt.tight_layout()\n",
    "plt.show()"
   ]
  },
  {
   "cell_type": "markdown",
   "id": "92552deb-9a45-4204-87ae-3dc29e8c82d4",
   "metadata": {},
   "source": [
    "### Total Sales by outlet establishment"
   ]
  },
  {
   "cell_type": "code",
   "execution_count": 35,
   "id": "b95b757d-381d-4936-a856-67e88dc357f7",
   "metadata": {},
   "outputs": [
    {
     "data": {
      "image/png": "[encoded data removed]",
      "text/plain": [
       "<Figure size 900x500 with 1 Axes>"
      ]
     },
     "metadata": {},
     "output_type": "display_data"
    }
   ],
   "source": [
    "sales_by_year = df.groupby('Outlet Establishment Year')['Sales'].sum().sort_index()\n",
    "plt.figure(figsize=(9,5))\n",
    "plt.plot(sales_by_year.index,sales_by_year.values,marker='o',linestyle='-')\n",
    "plt.xlabel('outlet establishment year')\n",
    "plt.ylabel('Total Sales')\n",
    "plt.title(\"Outlet Establishment\")\n",
    "plt.tight_layout()\n",
    "plt.show()"
   ]
  },
  {
   "cell_type": "markdown",
   "id": "1d9293ef-569c-423d-a4da-5157d949c2d1",
   "metadata": {},
   "source": [
    "### Total Sales by outlet size"
   ]
  },
  {
   "cell_type": "code",
   "execution_count": 56,
   "id": "db5d76b1-3d04-4715-ba73-e24befbd0b14",
   "metadata": {},
   "outputs": [
    {
     "data": {
      "image/png": "[encoded data removed]",
      "text/plain": [
       "<Figure size 400x400 with 1 Axes>"
      ]
     },
     "metadata": {},
     "output_type": "display_data"
    }
   ],
   "source": [
    "sales_by_size = df.groupby(\"Outlet Size\")['Sales'].sum()\n",
    "plt.figure(figsize=(4,4))\n",
    "plt.pie(sales_by_size,labels=sales_by_size.index,autopct='%.1f%%',startangle=90)\n",
    "plt.title('Outlet Size')\n",
    "plt.tight_layout()\n",
    "plt.show()"
   ]
  },
  {
   "cell_type": "markdown",
   "id": "5ddea6b6-d638-4309-b208-b8612223fd9f",
   "metadata": {},
   "source": [
    "### Total sales by outlet location"
   ]
  },
  {
   "cell_type": "code",
   "execution_count": 60,
   "id": "b041d23d-f0b9-4f2d-9f4f-aa1958318470",
   "metadata": {},
   "outputs": [
    {
     "data": {
      "image/png": "[encoded data removed]",
      "text/plain": [
       "<Figure size 800x400 with 1 Axes>"
      ]
     },
     "metadata": {},
     "output_type": "display_data"
    }
   ],
   "source": [
    "sales_by_loc = df.groupby(\"Outlet Location Type\")['Sales'].sum().reset_index()\n",
    "sales_by_loc = sales_by_loc.sort_values('Sales',ascending=False)\n",
    "plt.figure(figsize=(8,4)) #smaller height,enough width\n",
    "ax = sns.barplot(x='Sales',y='Outlet Location Type',data=sales_by_loc)\n",
    "plt.title('Total sales by outlet location')\n",
    "plt.xlabel(\"Total Sales\")\n",
    "plt.ylabel(\"Outlet Location Type\")\n",
    "plt.tight_layout() #Ensures Layout fits without scroll\n",
    "plt.show()"
   ]
  },
  {
   "cell_type": "code",
   "execution_count": null,
   "id": "7b7129d3-b731-4e30-8f29-8d84e13c12b1",
   "metadata": {},
   "outputs": [],
   "source": []
  }
 ],
 "metadata": {
  "kernelspec": {
   "display_name": "Python 3 (ipykernel)",
   "language": "python",
   "name": "python3"
  },
  "language_info": {
   "codemirror_mode": {
    "name": "ipython",
    "version": 3
   },
   "file_extension": ".py",
   "mimetype": "text/x-python",
   "name": "python",
   "nbconvert_exporter": "python",
   "pygments_lexer": "ipython3",
   "version": "3.13.3"
  }
 },
 "nbformat": 4,
 "nbformat_minor": 5
}
